{
 "cells": [
  {
   "cell_type": "markdown",
   "id": "09aec2b5",
   "metadata": {},
   "source": [
    "# Problem Set 5 – Algorithms & Testing"
   ]
  },
  {
   "cell_type": "markdown",
   "id": "ed52865c",
   "metadata": {},
   "source": [
    "## Problem 1 – Linear vs Binary Search (Easy)\n",
    "\n",
    "Searching is the starting point for almost every algorithmic problem.  Implementing and *testing* both linear and binary search highlights the trade‑off between simplicity and efficiency—and underscores the habit of writing unit tests.\n",
    "\n",
    "Implement and **unit‑test** both `linear_search` and `binary_search(list, target)` returning the index or `-1`."
   ]
  },
  {
   "cell_type": "code",
   "execution_count": null,
   "id": "65a6f238",
   "metadata": {},
   "outputs": [],
   "source": [
    "def linear_search(arr:list, target):\n",
    "    pass\n",
    "\n",
    "def binary_search(arr:list, target):\n",
    "    pass\n"
   ]
  },
  {
   "cell_type": "markdown",
   "id": "1df5fb3d",
   "metadata": {},
   "source": [
    "## Problem 2 – Merge Sort (Medium)\n",
    "\n",
    "Merge sort embodies the divide‑and‑conquer paradigm.  Coding it recursively reinforces earlier lessons while delivering guaranteed `O(n log n)` performance.\n",
    "\n",
    "Write a `merge_sort(lst)` that returns a **new sorted list**."
   ]
  },
  {
   "cell_type": "code",
   "execution_count": null,
   "id": "1392dc9c",
   "metadata": {},
   "outputs": [],
   "source": [
    "def merge_sort(lst:list) -> list:\n",
    "    pass\n"
   ]
  },
  {
   "cell_type": "markdown",
   "id": "18e30b00",
   "metadata": {},
   "source": [
    "## Problem 3 – Dijkstra Shortest Path (Hard)\n",
    "\n",
    "From GPS routing to network packet delivery, Dijkstra’s algorithm routes information through weighted graphs.  This implementation will expose you to priority queues and edge‑relaxation logic.\n",
    "\n",
    "Given a weighted directed graph (`adjacency dict`), implement `dijkstra(graph, start)` returning shortest distances."
   ]
  },
  {
   "cell_type": "code",
   "execution_count": null,
   "id": "26454fbe",
   "metadata": {},
   "outputs": [],
   "source": [
    "def dijkstra(graph:dict[str,dict[str,int]], start:str)->dict[str,int]:\n",
    "    pass\n"
   ]
  },
  {
   "cell_type": "markdown",
   "id": "f5af9240",
   "metadata": {},
   "source": [
    "## Problem 4 – Sudoku Solver (Challenge)\n",
    "\n",
    "Sudoku solving pushes backtracking to its limits, demanding careful pruning for efficiency.  You’ll learn how constraint‑propagation and recursion team up to explore vast search spaces systematically.\n",
    "\n",
    "Solve a 9×9 Sudoku using backtracking. Implement `solve(board)` that modifies the board in‑place and returns `True` if solvable."
   ]
  },
  {
   "cell_type": "code",
   "execution_count": null,
   "id": "d9de2cd0",
   "metadata": {},
   "outputs": [],
   "source": [
    "# board is a 9x9 list of lists, with 0 for empty cells\n",
    "\n",
    "def solve(board:list[list[int]]) -> bool:\n",
    "    pass\n"
   ]
  }
 ],
 "metadata": {},
 "nbformat": 4,
 "nbformat_minor": 5
}
