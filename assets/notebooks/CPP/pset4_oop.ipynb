{
 "cells": [
  {
   "cell_type": "markdown",
   "id": "bce5b57b",
   "metadata": {},
   "source": [
    "# Problem Set 4 – Object‑Oriented Programming"
   ]
  },
  {
   "cell_type": "markdown",
   "id": "20a0dfdf",
   "metadata": {},
   "source": [
    "## Problem 1 – BankAccount (Easy)\n",
    "\n",
    "Bank accounts exemplify encapsulation: balance should only change through well‑defined actions.  Implementing safeguards against negative balances introduces the idea of *class invariants*.\n",
    "\n",
    "Complete the `BankAccount` class with `deposit`, `withdraw`, and `__repr__`. **Negative balances are not allowed.**"
   ]
  },
  {
   "cell_type": "code",
   "execution_count": null,
   "id": "d508a028",
   "metadata": {},
   "outputs": [],
   "source": [
    "class BankAccount:\n",
    "    def __init__(self, owner:str, balance:float=0):\n",
    "        self.owner = owner\n",
    "        self.balance = balance\n",
    "\n",
    "    def deposit(self, amount:float):\n",
    "        pass\n",
    "\n",
    "    def withdraw(self, amount:float):\n",
    "        pass\n",
    "\n",
    "    def __repr__(self):\n",
    "        return f\"<BankAccount owner={self.owner!r} balance={self.balance:.2f}>\""
   ]
  },
  {
   "cell_type": "markdown",
   "id": "a65f515e",
   "metadata": {},
   "source": [
    "## Problem 2 – SavingsAccount with Interest (Medium)\n",
    "\n",
    "Savings accounts extend basic banking behaviour with interest accrual.  This small inheritance hierarchy shows how code reuse and specialisation coexist in object‑oriented design.\n",
    "\n",
    "Subclass `BankAccount` adding `annual_rate` and a method `apply_interest()` that compounds once per year."
   ]
  },
  {
   "cell_type": "code",
   "execution_count": null,
   "id": "8d136a63",
   "metadata": {},
   "outputs": [],
   "source": [
    "class SavingsAccount(BankAccount):\n",
    "    def __init__(self, owner:str, balance:float=0, annual_rate:float=0.02):\n",
    "        super().__init__(owner,balance)\n",
    "        self.annual_rate = annual_rate\n",
    "\n",
    "    def apply_interest(self):\n",
    "        pass\n"
   ]
  },
  {
   "cell_type": "markdown",
   "id": "19990b85",
   "metadata": {},
   "source": [
    "## Problem 3 – Polynomial Class (Hard)\n",
    "\n",
    "Polynomials underpin everything from Bézier curves to machine‑learning kernels.  By overloading operators you’ll see how Python lets you create domain‑specific abstractions that feel like built‑ins.\n",
    "\n",
    "Implement a `Polynomial` class supporting addition and multiplication via `+` and `*` overloading."
   ]
  },
  {
   "cell_type": "code",
   "execution_count": null,
   "id": "68371163",
   "metadata": {},
   "outputs": [],
   "source": [
    "class Polynomial:\n",
    "    def __init__(self, coeffs:list[float]):\n",
    "        self.coeffs = coeffs  # lowest degree first\n",
    "\n",
    "    def __add__(self, other:'Polynomial') -> 'Polynomial':\n",
    "        pass\n",
    "\n",
    "    def __mul__(self, other:'Polynomial') -> 'Polynomial':\n",
    "        pass\n",
    "\n",
    "    def __call__(self, x:float) -> float:\n",
    "        pass\n",
    "\n",
    "    def __repr__(self):\n",
    "        return \"Polynomial(\"+\", \".join(map(str,self.coeffs))+\")\""
   ]
  },
  {
   "cell_type": "markdown",
   "id": "0a1a4cd2",
   "metadata": {},
   "source": [
    "## Problem 4 – Deck of Cards Simulator (Challenge)\n",
    "\n",
    "A deck of cards involves composition (a deck *has* cards), randomness and state mutation.  Simulating deals prepares you for larger simulations such as Monte‑Carlo experiments or simple games.\n",
    "\n",
    "Create a `Deck` class that can `shuffle()`, `deal(n)` cards, and report how many remain. Represent cards as tuples `(rank, suit)`."
   ]
  },
  {
   "cell_type": "code",
   "execution_count": null,
   "id": "508948ee",
   "metadata": {},
   "outputs": [],
   "source": [
    "import random\n",
    "class Deck:\n",
    "    RANKS = list(map(str, range(2,11))) + ['J','Q','K','A']\n",
    "    SUITS = ['♠','♥','♦','♣']\n",
    "\n",
    "    def __init__(self):\n",
    "        self.cards = [(r,s) for s in self.SUITS for r in self.RANKS]\n",
    "\n",
    "    def shuffle(self):\n",
    "        pass\n",
    "\n",
    "    def deal(self, n:int=1) -> list[tuple[str,str]]:\n",
    "        pass\n",
    "\n",
    "    def __len__(self):\n",
    "        return len(self.cards)\n"
   ]
  }
 ],
 "metadata": {},
 "nbformat": 4,
 "nbformat_minor": 5
}
