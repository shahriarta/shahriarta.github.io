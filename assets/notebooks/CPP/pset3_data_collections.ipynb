{
 "cells": [
  {
   "cell_type": "markdown",
   "id": "689687ff",
   "metadata": {},
   "source": [
    "# Problem Set 3 – Data Collections"
   ]
  },
  {
   "cell_type": "markdown",
   "id": "efd6eaaa",
   "metadata": {},
   "source": [
    "## Problem 1 – Word Frequency (Easy)\n",
    "\n",
    "Counting word frequencies is the first step in many natural‑language and data‑mining pipelines.  Dictionaries shine in this role; you’ll also confront case‑sensitivity and basic text cleaning issues.\n",
    "\n",
    "Return a **case‑insensitive** word‑count dictionary for a sentence."
   ]
  },
  {
   "cell_type": "code",
   "execution_count": null,
   "id": "1ae85663",
   "metadata": {},
   "outputs": [],
   "source": [
    "def word_freq(sentence:str) -> dict[str,int]:\n",
    "    pass\n"
   ]
  },
  {
   "cell_type": "markdown",
   "id": "2b7f5fce",
   "metadata": {},
   "source": [
    "## Problem 2 – Unique Preserve Order (Medium)\n",
    "\n",
    "Removing duplicates while preserving order reveals why choosing the right data structure matters: sets are fast for membership tests but lose ordering, lists remember order but allow repeats.  You’ll combine both to get the best of each.\n",
    "\n",
    "Return a new list containing the unique elements of `lst` **in the order first seen**."
   ]
  },
  {
   "cell_type": "code",
   "execution_count": null,
   "id": "0134aebc",
   "metadata": {},
   "outputs": [],
   "source": [
    "def unique_stable(lst:list) -> list:\n",
    "    pass\n"
   ]
  },
  {
   "cell_type": "markdown",
   "id": "b4a5c04a",
   "metadata": {},
   "source": [
    "## Problem 3 – Group Anagrams (Hard)\n",
    "\n",
    "Anagrams offer a playful entry into hashing and grouping tasks.  This problem encourages you to design keys that classify items by a hidden property (letter multiset) rather than by their literal appearance.\n",
    "\n",
    "Group a list of words into anagram sets, returning a list of lists."
   ]
  },
  {
   "cell_type": "code",
   "execution_count": null,
   "id": "4204e403",
   "metadata": {},
   "outputs": [],
   "source": [
    "def group_anagrams(words:list[str]) -> list[list[str]]:\n",
    "    pass\n"
   ]
  },
  {
   "cell_type": "markdown",
   "id": "a1d8250e",
   "metadata": {},
   "source": [
    "## Problem 4 – Caesar Cipher Cracker (Challenge)\n",
    "\n",
    "Classical ciphers are fun sandboxes for brute‑force search strategies.  Cracking a Caesar shift introduces heuristic scoring and gives you practice iterating over a design space and selecting the best candidate.\n",
    "\n",
    "Given an encrypted message that was encoded with a Caesar shift, return the **most likely plaintext** by trying all 26 shifts and choosing the one that yields the highest number of English words (use the small word‑list provided).  *(A tiny word‑list is loaded in the code cell.)*"
   ]
  },
  {
   "cell_type": "code",
   "execution_count": null,
   "id": "92bee7e3",
   "metadata": {},
   "outputs": [],
   "source": [
    "WORDS = {'a','an','and','arrow','be','for','have','he','i','in','is','it','of','that','the','to','was','you'}\n",
    "\n",
    "def caesar_crack(msg:str) -> tuple[int,str]:\n",
    "    \"\"\"Return (shift, plaintext).\"\"\"\n",
    "    pass\n"
   ]
  }
 ],
 "metadata": {},
 "nbformat": 4,
 "nbformat_minor": 5
}
