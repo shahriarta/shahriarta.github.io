{
 "cells": [
  {
   "cell_type": "markdown",
   "id": "69ecf3ab",
   "metadata": {},
   "source": [
    "# Problem Set 2 – Functions & Recursion"
   ]
  },
  {
   "cell_type": "markdown",
   "id": "7f8b8d66",
   "metadata": {},
   "source": [
    "## Problem 1 – Factorial (Easy)\n",
    "\n",
    "Computing factorials turns repeated multiplication into a single abstract operation.  It illustrates how loops encapsulate repetition and lays groundwork for later comparisons with recursive solutions.\n",
    "\n",
    "Return `n!` using a **loop**."
   ]
  },
  {
   "cell_type": "code",
   "execution_count": null,
   "id": "416d0ac5",
   "metadata": {},
   "outputs": [],
   "source": [
    "def factorial(n:int) -> int:\n",
    "    pass\n"
   ]
  },
  {
   "cell_type": "markdown",
   "id": "0123aa4b",
   "metadata": {},
   "source": [
    "## Problem 2 – Fibonacci (Medium)\n",
    "\n",
    "The Fibonacci sequence is a textbook example of mathematical recursion.  Translating its definition directly into code highlights how recursive thinking differs from iterative loops—and why recursion isn’t always efficient.\n",
    "\n",
    "Return the *n*‑th Fibonacci number using **recursion** (no memoization)."
   ]
  },
  {
   "cell_type": "code",
   "execution_count": null,
   "id": "b8bb64ca",
   "metadata": {},
   "outputs": [],
   "source": [
    "def fib(n:int) -> int:\n",
    "    pass\n"
   ]
  },
  {
   "cell_type": "markdown",
   "id": "57ba4089",
   "metadata": {},
   "source": [
    "## Problem 3 – Prime Factorization (Hard)\n",
    "\n",
    "Prime factorisation is fundamental to cryptography and number theory.  Decomposing an integer forces you to design helper functions and consider algorithmic efficiency as numbers get large.\n",
    "\n",
    "Return the prime factors of `n` in **ascending order** as a list."
   ]
  },
  {
   "cell_type": "code",
   "execution_count": null,
   "id": "368d71f9",
   "metadata": {},
   "outputs": [],
   "source": [
    "def prime_factors(n:int) -> list[int]:\n",
    "    pass\n"
   ]
  },
  {
   "cell_type": "markdown",
   "id": "a228367c",
   "metadata": {},
   "source": [
    "## Problem 4 – Tower of Hanoi Moves (Challenge)\n",
    "\n",
    "The Tower of Hanoi is a classic puzzle that showcases the elegance of recursive decomposition.  By returning a *list of moves* you’ll practise building and combining data structures to represent an algorithm’s plan.\n",
    "\n",
    "Write `hanoi_moves(n, src='A', dst='C', aux='B')` that returns a **list of tuples** representing the moves required to transfer `n` disks from `src` to `dst`."
   ]
  },
  {
   "cell_type": "code",
   "execution_count": null,
   "id": "0e891b77",
   "metadata": {},
   "outputs": [],
   "source": [
    "def hanoi_moves(n:int, src:str='A', dst:str='C', aux:str='B') -> list[tuple[str,str]]:\n",
    "    pass\n"
   ]
  }
 ],
 "metadata": {},
 "nbformat": 4,
 "nbformat_minor": 5
}
