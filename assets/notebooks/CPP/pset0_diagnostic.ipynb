{
 "cells": [
  {
   "cell_type": "markdown",
   "id": "13da7a69",
   "metadata": {},
   "source": [
    "# Problem Set 0 – Diagnostic\n",
    "**Purpose:** verify your environment and recap Python basics. Complete each problem in order; they become gradually harder."
   ]
  },
  {
   "cell_type": "markdown",
   "id": "7ff17686",
   "metadata": {},
   "source": [
    "## Problem 1 – Hello & Arithmetic (Easy)\n",
    "\n",
    "This quick warm‑up confirms that your Python environment is running correctly and that you can execute and edit a code cell.  It also jogs your memory on basic arithmetic expressions—which every later problem will build on.\n",
    "\n",
    "1. Edit the code cell to print `Hello, YOUR_NAME!`.\n",
    "2. Compute the result of $7\\times(8+9)$ and store it in a variable `answer`."
   ]
  },
  {
   "cell_type": "code",
   "execution_count": null,
   "id": "e76e623d",
   "metadata": {},
   "outputs": [],
   "source": [
    "print(\"Hello, YOUR_NAME!\")\n",
    "answer = None  # replace None"
   ]
  },
  {
   "cell_type": "markdown",
   "id": "2a4ee715",
   "metadata": {},
   "source": [
    "## Problem 2 – String Basics (Easy‑Medium)\n",
    "\n",
    "Names and strings are everywhere in programming—from file paths to natural‑language processing.  Reformatting and capitalising a name forces you to practise slicing, string methods and thinking about how data should be **represented**.\n",
    "\n",
    "Write a function `reverse_name(name)` that takes a full name string and returns it reversed *and* in title‑case.  \n",
    "```python\n",
    ">>> reverse_name('ada lovelace')\n",
    "'Lovelace, Ada'\n",
    "```"
   ]
  },
  {
   "cell_type": "code",
   "execution_count": null,
   "id": "757e68b9",
   "metadata": {},
   "outputs": [],
   "source": [
    "def reverse_name(name: str) -> str:\n",
    "    \"\"\"Return 'Last, First' with proper capitalization.\"\"\"\n",
    "    # YOUR CODE HERE\n",
    "    pass\n"
   ]
  },
  {
   "cell_type": "markdown",
   "id": "c47537e0",
   "metadata": {},
   "source": [
    "## Problem 3 – Temperature Converter (Medium)\n",
    "\n",
    "Unit conversions are a classic first automation task.  By writing the two complementary functions you’ll exercise variable manipulation, arithmetic formulas and the idea of *round‑tripping* data between representations.\n",
    "\n",
    "Implement `f2c(f)` that converts Fahrenheit to Celsius **and** `c2f(c)` for the reverse conversion.  \n",
    "Use the exact formulas and round the result to **1 decimal place**."
   ]
  },
  {
   "cell_type": "code",
   "execution_count": null,
   "id": "f731cb0e",
   "metadata": {},
   "outputs": [],
   "source": [
    "def f2c(f: float) -> float:\n",
    "    \"\"\"Convert Fahrenheit to Celsius, rounded to 1 decimal.\"\"\"\n",
    "    pass\n",
    "\n",
    "def c2f(c: float) -> float:\n",
    "    \"\"\"Convert Celsius to Fahrenheit, rounded to 1 decimal.\"\"\"\n",
    "    pass\n"
   ]
  },
  {
   "cell_type": "markdown",
   "id": "44f50987",
   "metadata": {},
   "source": [
    "## Problem 4 – Compound Interest (Challenging)\n",
    "\n",
    "Finance apps, physics engines and biology models all rely on numerical formulas that loop over time.  Compound interest is a friendly example that combines **user input**, arithmetic, and formatted output while introducing the idea of simulation.\n",
    "\n",
    "Write a **script** that asks the user for an initial deposit, yearly interest rate (as percent) and number of years, then prints the future value assuming **annual compounding**.  \n",
    "*(Use `input()` so the notebook can run interactively.)*"
   ]
  }
 ],
 "metadata": {},
 "nbformat": 4,
 "nbformat_minor": 5
}
