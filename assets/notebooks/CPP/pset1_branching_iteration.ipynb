{
 "cells": [
  {
   "cell_type": "markdown",
   "id": "fdfac3a7",
   "metadata": {},
   "source": [
    "# Problem Set 1 – Branching & Iteration"
   ]
  },
  {
   "cell_type": "markdown",
   "id": "7fc4d6d0",
   "metadata": {},
   "source": [
    "## Problem 1 – Custom `abs` (Easy)\n",
    "\n",
    "Branching is the bedrock of algorithmic decision‑making.  Re‑implementing `abs` without the built‑in reminds you that every convenience function rests on simple conditional logic.\n",
    "\n",
    "Implement `my_abs(x)` without using Python's built‑in `abs()`."
   ]
  },
  {
   "cell_type": "code",
   "execution_count": null,
   "id": "c2a26346",
   "metadata": {},
   "outputs": [],
   "source": [
    "def my_abs(x: float) -> float:\n",
    "    # YOUR CODE HERE\n",
    "    pass\n"
   ]
  },
  {
   "cell_type": "markdown",
   "id": "22a18bb8",
   "metadata": {},
   "source": [
    "## Problem 2 – Leap Year Checker (Easy‑Medium)\n",
    "\n",
    "Calendars may look simple, but the leap‑year rule captures centuries of astronomical refinement.  This task combines boolean operators and nested conditionals, with a real‑world rule you have probably encountered.\n",
    "\n",
    "Return `True` if a year is a leap year in the Gregorian calendar."
   ]
  },
  {
   "cell_type": "code",
   "execution_count": null,
   "id": "26e3b1c3",
   "metadata": {},
   "outputs": [],
   "source": [
    "def is_leap_year(year: int) -> bool:\n",
    "    pass\n"
   ]
  },
  {
   "cell_type": "markdown",
   "id": "abc03dea",
   "metadata": {},
   "source": [
    "## Problem 3 – Newton’s Square‑Root (Medium)\n",
    "\n",
    "Newton’s method is an ancient yet powerful numerical algorithm.  Implementing it gives you practice with `while` loops, convergence tests, and writing functions whose running time is controlled by a tolerance parameter.\n",
    "\n",
    "Use Newton’s method to approximate `sqrt(n)` to within `1e-6`."
   ]
  },
  {
   "cell_type": "code",
   "execution_count": null,
   "id": "093ff11c",
   "metadata": {},
   "outputs": [],
   "source": [
    "def sqrt_newton(n: float, tol: float = 1e-6) -> float:\n",
    "    pass\n"
   ]
  },
  {
   "cell_type": "markdown",
   "id": "8cbe06d0",
   "metadata": {},
   "source": [
    "## Problem 4 – Collatz Steps (Challenging)\n",
    "\n",
    "The Collatz conjecture is famous for being easy to state but hard to prove.  Coding the sequence lets you combine branching and iteration in a tight loop and explore unexpectedly rich behaviour arising from a simple rule.\n",
    "\n",
    "Write `collatz_steps(n)` that returns how many steps the Collatz sequence takes to reach 1."
   ]
  },
  {
   "cell_type": "code",
   "execution_count": null,
   "id": "0400c88c",
   "metadata": {},
   "outputs": [],
   "source": [
    "def collatz_steps(n: int) -> int:\n",
    "    pass\n"
   ]
  }
 ],
 "metadata": {},
 "nbformat": 4,
 "nbformat_minor": 5
}
